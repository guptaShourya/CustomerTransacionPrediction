{
 "cells": [
  {
   "cell_type": "code",
   "execution_count": 1,
   "metadata": {
    "_cell_guid": "b1076dfc-b9ad-4769-8c92-a6c4dae69d19",
    "_uuid": "8f2839f25d086af736a60e9eeb907d3b93b6e0e5",
    "execution": {
     "iopub.execute_input": "2021-01-11T10:53:12.793783Z",
     "iopub.status.busy": "2021-01-11T10:53:12.792975Z",
     "iopub.status.idle": "2021-01-11T10:53:13.776769Z",
     "shell.execute_reply": "2021-01-11T10:53:13.777649Z"
    },
    "papermill": {
     "duration": 1.034373,
     "end_time": "2021-01-11T10:53:13.777863",
     "exception": false,
     "start_time": "2021-01-11T10:53:12.743490",
     "status": "completed"
    },
    "tags": []
   },
   "outputs": [
    {
     "name": "stdout",
     "output_type": "stream",
     "text": [
      "/kaggle/input/santander-customer-transaction-prediction/sample_submission.csv\n",
      "/kaggle/input/santander-customer-transaction-prediction/train.csv\n",
      "/kaggle/input/santander-customer-transaction-prediction/test.csv\n"
     ]
    }
   ],
   "source": [
    "# This Python 3 environment comes with many helpful analytics libraries installed\n",
    "# It is defined by the kaggle/python Docker image: https://github.com/kaggle/docker-python\n",
    "# For example, here's several helpful packages to load\n",
    "\n",
    "import numpy as np # linear algebra\n",
    "import pandas as pd # data processing, CSV file I/O (e.g. pd.read_csv)\n",
    "import seaborn as sns\n",
    "import matplotlib.pyplot as plt\n",
    "sns.set()\n",
    "\n",
    "# Input data files are available in the read-only \"../input/\" directory\n",
    "# For example, running this (by clicking run or pressing Shift+Enter) will list all files under the input directory\n",
    "\n",
    "import os\n",
    "for dirname, _, filenames in os.walk('/kaggle/input'):\n",
    "    for filename in filenames:\n",
    "        print(os.path.join(dirname, filename))\n",
    "\n",
    "# You can write up to 20GB to the current directory (/kaggle/working/) that gets preserved as output when you create a version using \"Save & Run All\" \n",
    "# You can also write temporary files to /kaggle/temp/, but they won't be saved outside of the current session"
   ]
  },
  {
   "cell_type": "code",
   "execution_count": 2,
   "metadata": {
    "_cell_guid": "79c7e3d0-c299-4dcb-8224-4455121ee9b0",
    "_uuid": "d629ff2d2480ee46fbb7e2d37f6b5fab8052498a",
    "execution": {
     "iopub.execute_input": "2021-01-11T10:53:13.871730Z",
     "iopub.status.busy": "2021-01-11T10:53:13.871070Z",
     "iopub.status.idle": "2021-01-11T10:53:25.209649Z",
     "shell.execute_reply": "2021-01-11T10:53:25.208499Z"
    },
    "papermill": {
     "duration": 11.387858,
     "end_time": "2021-01-11T10:53:25.209805",
     "exception": false,
     "start_time": "2021-01-11T10:53:13.821947",
     "status": "completed"
    },
    "tags": []
   },
   "outputs": [],
   "source": [
    "path = '../input/santander-customer-transaction-prediction/train.csv'\n",
    "df = pd.read_csv(path)"
   ]
  },
  {
   "cell_type": "code",
   "execution_count": 3,
   "metadata": {
    "execution": {
     "iopub.execute_input": "2021-01-11T10:53:25.300814Z",
     "iopub.status.busy": "2021-01-11T10:53:25.298404Z",
     "iopub.status.idle": "2021-01-11T10:53:25.303349Z",
     "shell.execute_reply": "2021-01-11T10:53:25.302625Z"
    },
    "papermill": {
     "duration": 0.051836,
     "end_time": "2021-01-11T10:53:25.303471",
     "exception": false,
     "start_time": "2021-01-11T10:53:25.251635",
     "status": "completed"
    },
    "tags": []
   },
   "outputs": [
    {
     "name": "stdout",
     "output_type": "stream",
     "text": [
      "Data has 200000 rows, 202 columns\n"
     ]
    }
   ],
   "source": [
    "print(\"Data has {} rows, {} columns\".format(df.shape[0], df.shape[1]))"
   ]
  },
  {
   "cell_type": "code",
   "execution_count": 4,
   "metadata": {
    "execution": {
     "iopub.execute_input": "2021-01-11T10:53:25.442389Z",
     "iopub.status.busy": "2021-01-11T10:53:25.439469Z",
     "iopub.status.idle": "2021-01-11T10:53:25.468787Z",
     "shell.execute_reply": "2021-01-11T10:53:25.469985Z"
    },
    "papermill": {
     "duration": 0.089994,
     "end_time": "2021-01-11T10:53:25.470160",
     "exception": false,
     "start_time": "2021-01-11T10:53:25.380166",
     "status": "completed"
    },
    "tags": []
   },
   "outputs": [
    {
     "data": {
      "text/html": [
       "<div>\n",
       "<style scoped>\n",
       "    .dataframe tbody tr th:only-of-type {\n",
       "        vertical-align: middle;\n",
       "    }\n",
       "\n",
       "    .dataframe tbody tr th {\n",
       "        vertical-align: top;\n",
       "    }\n",
       "\n",
       "    .dataframe thead th {\n",
       "        text-align: right;\n",
       "    }\n",
       "</style>\n",
       "<table border=\"1\" class=\"dataframe\">\n",
       "  <thead>\n",
       "    <tr style=\"text-align: right;\">\n",
       "      <th></th>\n",
       "      <th>ID_code</th>\n",
       "      <th>target</th>\n",
       "      <th>var_0</th>\n",
       "      <th>var_1</th>\n",
       "      <th>var_2</th>\n",
       "      <th>var_3</th>\n",
       "      <th>var_4</th>\n",
       "      <th>var_5</th>\n",
       "      <th>var_6</th>\n",
       "      <th>var_7</th>\n",
       "      <th>...</th>\n",
       "      <th>var_190</th>\n",
       "      <th>var_191</th>\n",
       "      <th>var_192</th>\n",
       "      <th>var_193</th>\n",
       "      <th>var_194</th>\n",
       "      <th>var_195</th>\n",
       "      <th>var_196</th>\n",
       "      <th>var_197</th>\n",
       "      <th>var_198</th>\n",
       "      <th>var_199</th>\n",
       "    </tr>\n",
       "  </thead>\n",
       "  <tbody>\n",
       "    <tr>\n",
       "      <th>0</th>\n",
       "      <td>train_0</td>\n",
       "      <td>0</td>\n",
       "      <td>8.9255</td>\n",
       "      <td>-6.7863</td>\n",
       "      <td>11.9081</td>\n",
       "      <td>5.0930</td>\n",
       "      <td>11.4607</td>\n",
       "      <td>-9.2834</td>\n",
       "      <td>5.1187</td>\n",
       "      <td>18.6266</td>\n",
       "      <td>...</td>\n",
       "      <td>4.4354</td>\n",
       "      <td>3.9642</td>\n",
       "      <td>3.1364</td>\n",
       "      <td>1.6910</td>\n",
       "      <td>18.5227</td>\n",
       "      <td>-2.3978</td>\n",
       "      <td>7.8784</td>\n",
       "      <td>8.5635</td>\n",
       "      <td>12.7803</td>\n",
       "      <td>-1.0914</td>\n",
       "    </tr>\n",
       "    <tr>\n",
       "      <th>1</th>\n",
       "      <td>train_1</td>\n",
       "      <td>0</td>\n",
       "      <td>11.5006</td>\n",
       "      <td>-4.1473</td>\n",
       "      <td>13.8588</td>\n",
       "      <td>5.3890</td>\n",
       "      <td>12.3622</td>\n",
       "      <td>7.0433</td>\n",
       "      <td>5.6208</td>\n",
       "      <td>16.5338</td>\n",
       "      <td>...</td>\n",
       "      <td>7.6421</td>\n",
       "      <td>7.7214</td>\n",
       "      <td>2.5837</td>\n",
       "      <td>10.9516</td>\n",
       "      <td>15.4305</td>\n",
       "      <td>2.0339</td>\n",
       "      <td>8.1267</td>\n",
       "      <td>8.7889</td>\n",
       "      <td>18.3560</td>\n",
       "      <td>1.9518</td>\n",
       "    </tr>\n",
       "    <tr>\n",
       "      <th>2</th>\n",
       "      <td>train_2</td>\n",
       "      <td>0</td>\n",
       "      <td>8.6093</td>\n",
       "      <td>-2.7457</td>\n",
       "      <td>12.0805</td>\n",
       "      <td>7.8928</td>\n",
       "      <td>10.5825</td>\n",
       "      <td>-9.0837</td>\n",
       "      <td>6.9427</td>\n",
       "      <td>14.6155</td>\n",
       "      <td>...</td>\n",
       "      <td>2.9057</td>\n",
       "      <td>9.7905</td>\n",
       "      <td>1.6704</td>\n",
       "      <td>1.6858</td>\n",
       "      <td>21.6042</td>\n",
       "      <td>3.1417</td>\n",
       "      <td>-6.5213</td>\n",
       "      <td>8.2675</td>\n",
       "      <td>14.7222</td>\n",
       "      <td>0.3965</td>\n",
       "    </tr>\n",
       "    <tr>\n",
       "      <th>3</th>\n",
       "      <td>train_3</td>\n",
       "      <td>0</td>\n",
       "      <td>11.0604</td>\n",
       "      <td>-2.1518</td>\n",
       "      <td>8.9522</td>\n",
       "      <td>7.1957</td>\n",
       "      <td>12.5846</td>\n",
       "      <td>-1.8361</td>\n",
       "      <td>5.8428</td>\n",
       "      <td>14.9250</td>\n",
       "      <td>...</td>\n",
       "      <td>4.4666</td>\n",
       "      <td>4.7433</td>\n",
       "      <td>0.7178</td>\n",
       "      <td>1.4214</td>\n",
       "      <td>23.0347</td>\n",
       "      <td>-1.2706</td>\n",
       "      <td>-2.9275</td>\n",
       "      <td>10.2922</td>\n",
       "      <td>17.9697</td>\n",
       "      <td>-8.9996</td>\n",
       "    </tr>\n",
       "    <tr>\n",
       "      <th>4</th>\n",
       "      <td>train_4</td>\n",
       "      <td>0</td>\n",
       "      <td>9.8369</td>\n",
       "      <td>-1.4834</td>\n",
       "      <td>12.8746</td>\n",
       "      <td>6.6375</td>\n",
       "      <td>12.2772</td>\n",
       "      <td>2.4486</td>\n",
       "      <td>5.9405</td>\n",
       "      <td>19.2514</td>\n",
       "      <td>...</td>\n",
       "      <td>-1.4905</td>\n",
       "      <td>9.5214</td>\n",
       "      <td>-0.1508</td>\n",
       "      <td>9.1942</td>\n",
       "      <td>13.2876</td>\n",
       "      <td>-1.5121</td>\n",
       "      <td>3.9267</td>\n",
       "      <td>9.5031</td>\n",
       "      <td>17.9974</td>\n",
       "      <td>-8.8104</td>\n",
       "    </tr>\n",
       "  </tbody>\n",
       "</table>\n",
       "<p>5 rows × 202 columns</p>\n",
       "</div>"
      ],
      "text/plain": [
       "   ID_code  target    var_0   var_1    var_2   var_3    var_4   var_5   var_6  \\\n",
       "0  train_0       0   8.9255 -6.7863  11.9081  5.0930  11.4607 -9.2834  5.1187   \n",
       "1  train_1       0  11.5006 -4.1473  13.8588  5.3890  12.3622  7.0433  5.6208   \n",
       "2  train_2       0   8.6093 -2.7457  12.0805  7.8928  10.5825 -9.0837  6.9427   \n",
       "3  train_3       0  11.0604 -2.1518   8.9522  7.1957  12.5846 -1.8361  5.8428   \n",
       "4  train_4       0   9.8369 -1.4834  12.8746  6.6375  12.2772  2.4486  5.9405   \n",
       "\n",
       "     var_7  ...  var_190  var_191  var_192  var_193  var_194  var_195  \\\n",
       "0  18.6266  ...   4.4354   3.9642   3.1364   1.6910  18.5227  -2.3978   \n",
       "1  16.5338  ...   7.6421   7.7214   2.5837  10.9516  15.4305   2.0339   \n",
       "2  14.6155  ...   2.9057   9.7905   1.6704   1.6858  21.6042   3.1417   \n",
       "3  14.9250  ...   4.4666   4.7433   0.7178   1.4214  23.0347  -1.2706   \n",
       "4  19.2514  ...  -1.4905   9.5214  -0.1508   9.1942  13.2876  -1.5121   \n",
       "\n",
       "   var_196  var_197  var_198  var_199  \n",
       "0   7.8784   8.5635  12.7803  -1.0914  \n",
       "1   8.1267   8.7889  18.3560   1.9518  \n",
       "2  -6.5213   8.2675  14.7222   0.3965  \n",
       "3  -2.9275  10.2922  17.9697  -8.9996  \n",
       "4   3.9267   9.5031  17.9974  -8.8104  \n",
       "\n",
       "[5 rows x 202 columns]"
      ]
     },
     "execution_count": 4,
     "metadata": {},
     "output_type": "execute_result"
    }
   ],
   "source": [
    "df.head()"
   ]
  },
  {
   "cell_type": "code",
   "execution_count": 5,
   "metadata": {
    "execution": {
     "iopub.execute_input": "2021-01-11T10:53:25.567986Z",
     "iopub.status.busy": "2021-01-11T10:53:25.566824Z",
     "iopub.status.idle": "2021-01-11T10:53:25.644393Z",
     "shell.execute_reply": "2021-01-11T10:53:25.645080Z"
    },
    "papermill": {
     "duration": 0.127153,
     "end_time": "2021-01-11T10:53:25.645278",
     "exception": false,
     "start_time": "2021-01-11T10:53:25.518125",
     "status": "completed"
    },
    "tags": []
   },
   "outputs": [
    {
     "name": "stdout",
     "output_type": "stream",
     "text": [
      "Data has 0 null values\n"
     ]
    }
   ],
   "source": [
    "print(\"Data has {} null values\".format(df.isnull().any().sum()))"
   ]
  },
  {
   "cell_type": "markdown",
   "metadata": {
    "papermill": {
     "duration": 0.044733,
     "end_time": "2021-01-11T10:53:25.736614",
     "exception": false,
     "start_time": "2021-01-11T10:53:25.691881",
     "status": "completed"
    },
    "tags": []
   },
   "source": [
    "NO NULLS"
   ]
  },
  {
   "cell_type": "markdown",
   "metadata": {
    "papermill": {
     "duration": 0.04353,
     "end_time": "2021-01-11T10:53:25.824427",
     "exception": false,
     "start_time": "2021-01-11T10:53:25.780897",
     "status": "completed"
    },
    "tags": []
   },
   "source": [
    "Distribution of values in the Target column"
   ]
  },
  {
   "cell_type": "code",
   "execution_count": 6,
   "metadata": {
    "execution": {
     "iopub.execute_input": "2021-01-11T10:53:25.923527Z",
     "iopub.status.busy": "2021-01-11T10:53:25.922788Z",
     "iopub.status.idle": "2021-01-11T10:53:26.181798Z",
     "shell.execute_reply": "2021-01-11T10:53:26.182345Z"
    },
    "papermill": {
     "duration": 0.313202,
     "end_time": "2021-01-11T10:53:26.182500",
     "exception": false,
     "start_time": "2021-01-11T10:53:25.869298",
     "status": "completed"
    },
    "tags": []
   },
   "outputs": [
    {
     "data": {
      "image/png": "[encoded data removed]",
      "text/plain": [
       "<Figure size 432x288 with 2 Axes>"
      ]
     },
     "metadata": {},
     "output_type": "display_data"
    }
   ],
   "source": [
    "f, ax = plt.subplots(nrows = 1, ncols = 2)\n",
    "sns.countplot(x = 'target', data = df, ax = ax[0])\n",
    "ax[1].pie(x = df.target.value_counts().values, labels = df.target.value_counts().index, autopct = \"%.2f%%\")\n",
    "ax[1].set_title(\"Percentage distribution\")\n",
    "plt.show()"
   ]
  },
  {
   "cell_type": "markdown",
   "metadata": {
    "papermill": {
     "duration": 0.046,
     "end_time": "2021-01-11T10:53:26.279612",
     "exception": false,
     "start_time": "2021-01-11T10:53:26.233612",
     "status": "completed"
    },
    "tags": []
   },
   "source": [
    "### **The data is heavily biased**"
   ]
  },
  {
   "cell_type": "markdown",
   "metadata": {
    "papermill": {
     "duration": 0.044799,
     "end_time": "2021-01-11T10:53:26.370459",
     "exception": false,
     "start_time": "2021-01-11T10:53:26.325660",
     "status": "completed"
    },
    "tags": []
   },
   "source": [
    "### corr_help : A function to find co-relation of features with a given columns"
   ]
  },
  {
   "cell_type": "code",
   "execution_count": 7,
   "metadata": {
    "execution": {
     "iopub.execute_input": "2021-01-11T10:53:26.471266Z",
     "iopub.status.busy": "2021-01-11T10:53:26.470251Z",
     "iopub.status.idle": "2021-01-11T10:53:26.473220Z",
     "shell.execute_reply": "2021-01-11T10:53:26.473743Z"
    },
    "papermill": {
     "duration": 0.058147,
     "end_time": "2021-01-11T10:53:26.473904",
     "exception": false,
     "start_time": "2021-01-11T10:53:26.415757",
     "status": "completed"
    },
    "tags": []
   },
   "outputs": [],
   "source": [
    "def corr_help(df, col):\n",
    "    x = []\n",
    "    for i in range(200):\n",
    "        corr = df[col].corr(df['var_'+str(i)])\n",
    "        x.append(corr)\n",
    "    return x"
   ]
  },
  {
   "cell_type": "code",
   "execution_count": 8,
   "metadata": {
    "execution": {
     "iopub.execute_input": "2021-01-11T10:53:26.571075Z",
     "iopub.status.busy": "2021-01-11T10:53:26.570111Z",
     "iopub.status.idle": "2021-01-11T10:53:27.250887Z",
     "shell.execute_reply": "2021-01-11T10:53:27.251526Z"
    },
    "papermill": {
     "duration": 0.730968,
     "end_time": "2021-01-11T10:53:27.251684",
     "exception": false,
     "start_time": "2021-01-11T10:53:26.520716",
     "status": "completed"
    },
    "tags": []
   },
   "outputs": [
    {
     "data": {
      "image/png": "[encoded data removed]",
      "text/plain": [
       "<Figure size 432x288 with 1 Axes>"
      ]
     },
     "metadata": {},
     "output_type": "display_data"
    }
   ],
   "source": [
    "x = corr_help(df, 'target')\n",
    "sns.distplot(x)\n",
    "plt.show()"
   ]
  },
  {
   "cell_type": "markdown",
   "metadata": {},
   "source": [
    "Most of the features show low +ve corelation with the target variable"
   ]
  },
  {
   "cell_type": "code",
   "execution_count": 9,
   "metadata": {
    "execution": {
     "iopub.execute_input": "2021-01-11T10:53:27.453898Z",
     "iopub.status.busy": "2021-01-11T10:53:27.451731Z",
     "iopub.status.idle": "2021-01-11T10:53:27.454689Z",
     "shell.execute_reply": "2021-01-11T10:53:27.455255Z"
    },
    "papermill": {
     "duration": 0.152749,
     "end_time": "2021-01-11T10:53:27.455405",
     "exception": false,
     "start_time": "2021-01-11T10:53:27.302656",
     "status": "completed"
    },
    "tags": []
   },
   "outputs": [],
   "source": [
    "y = df['target']\n",
    "df = df.drop(['ID_code', 'target'], axis = 1)"
   ]
  },
  {
   "cell_type": "markdown",
   "metadata": {
    "papermill": {
     "duration": 0.075984,
     "end_time": "2021-01-11T10:53:27.602600",
     "exception": false,
     "start_time": "2021-01-11T10:53:27.526616",
     "status": "completed"
    },
    "tags": []
   },
   "source": [
    "Removing outliers"
   ]
  },
  {
   "cell_type": "code",
   "execution_count": 10,
   "metadata": {
    "execution": {
     "iopub.execute_input": "2021-01-11T10:53:27.763565Z",
     "iopub.status.busy": "2021-01-11T10:53:27.760333Z",
     "iopub.status.idle": "2021-01-11T10:53:29.924325Z",
     "shell.execute_reply": "2021-01-11T10:53:29.923078Z"
    },
    "papermill": {
     "duration": 2.244485,
     "end_time": "2021-01-11T10:53:29.924459",
     "exception": false,
     "start_time": "2021-01-11T10:53:27.679974",
     "status": "completed"
    },
    "tags": []
   },
   "outputs": [],
   "source": [
    "Q1 = df.quantile(0.25)\n",
    "Q3 = df.quantile(0.75)\n",
    "IQR1 = Q3-Q1\n",
    "df_c = df[~((df < (Q1-1.5*IQR1))|(df > (Q3+1.5*IQR1))).any(axis = 1)]"
   ]
  },
  {
   "cell_type": "code",
   "execution_count": 11,
   "metadata": {
    "execution": {
     "iopub.execute_input": "2021-01-11T10:53:30.026985Z",
     "iopub.status.busy": "2021-01-11T10:53:30.025627Z",
     "iopub.status.idle": "2021-01-11T10:53:30.029828Z",
     "shell.execute_reply": "2021-01-11T10:53:30.029140Z"
    },
    "papermill": {
     "duration": 0.058924,
     "end_time": "2021-01-11T10:53:30.029950",
     "exception": false,
     "start_time": "2021-01-11T10:53:29.971026",
     "status": "completed"
    },
    "tags": []
   },
   "outputs": [
    {
     "name": "stdout",
     "output_type": "stream",
     "text": [
      "Data loss is 12.447999999999999%\n"
     ]
    }
   ],
   "source": [
    "print('Data loss is {}%'.format(((len(y) - len(df_c))/len(y))*100))"
   ]
  },
  {
   "cell_type": "markdown",
   "metadata": {
    "papermill": {
     "duration": 0.045971,
     "end_time": "2021-01-11T10:53:30.123635",
     "exception": false,
     "start_time": "2021-01-11T10:53:30.077664",
     "status": "completed"
    },
    "tags": []
   },
   "source": [
    "Removing the values in target columns which were related to outliers"
   ]
  },
  {
   "cell_type": "code",
   "execution_count": 12,
   "metadata": {
    "execution": {
     "iopub.execute_input": "2021-01-11T10:53:30.277358Z",
     "iopub.status.busy": "2021-01-11T10:53:30.256923Z",
     "iopub.status.idle": "2021-01-11T10:54:40.940657Z",
     "shell.execute_reply": "2021-01-11T10:54:40.941553Z"
    },
    "papermill": {
     "duration": 70.771765,
     "end_time": "2021-01-11T10:54:40.941772",
     "exception": false,
     "start_time": "2021-01-11T10:53:30.170007",
     "status": "completed"
    },
    "tags": []
   },
   "outputs": [
    {
     "name": "stderr",
     "output_type": "stream",
     "text": [
      "/opt/conda/lib/python3.7/site-packages/ipykernel_launcher.py:9: SettingWithCopyWarning: \n",
      "A value is trying to be set on a copy of a slice from a DataFrame.\n",
      "Try using .loc[row_indexer,col_indexer] = value instead\n",
      "\n",
      "See the caveats in the documentation: https://pandas.pydata.org/pandas-docs/stable/user_guide/indexing.html#returning-a-view-versus-a-copy\n",
      "  if __name__ == '__main__':\n"
     ]
    }
   ],
   "source": [
    "c = list(df_c.index)\n",
    "f = []\n",
    "for i in range(len(c)-1):\n",
    "    for j in range(c[i]+1, c[i+1]):\n",
    "        f.append(j)\n",
    "for i in f:\n",
    "    y.pop(i)\n",
    "y = list(y)\n",
    "df_c['y'] = y"
   ]
  },
  {
   "cell_type": "code",
   "execution_count": 13,
   "metadata": {
    "execution": {
     "iopub.execute_input": "2021-01-11T10:54:41.046187Z",
     "iopub.status.busy": "2021-01-11T10:54:41.044245Z",
     "iopub.status.idle": "2021-01-11T10:54:41.046878Z",
     "shell.execute_reply": "2021-01-11T10:54:41.047374Z"
    },
    "papermill": {
     "duration": 0.056734,
     "end_time": "2021-01-11T10:54:41.047535",
     "exception": false,
     "start_time": "2021-01-11T10:54:40.990801",
     "status": "completed"
    },
    "tags": []
   },
   "outputs": [],
   "source": [
    "data = df_c"
   ]
  },
  {
   "cell_type": "markdown",
   "metadata": {
    "papermill": {
     "duration": 0.047828,
     "end_time": "2021-01-11T10:54:41.142281",
     "exception": false,
     "start_time": "2021-01-11T10:54:41.094453",
     "status": "completed"
    },
    "tags": []
   },
   "source": [
    "Visualising the distribution of values in diff var (selected randomly)"
   ]
  },
  {
   "cell_type": "code",
   "execution_count": 14,
   "metadata": {
    "execution": {
     "iopub.execute_input": "2021-01-11T10:54:41.246165Z",
     "iopub.status.busy": "2021-01-11T10:54:41.245170Z",
     "iopub.status.idle": "2021-01-11T10:54:42.936026Z",
     "shell.execute_reply": "2021-01-11T10:54:42.936739Z"
    },
    "papermill": {
     "duration": 1.747172,
     "end_time": "2021-01-11T10:54:42.936886",
     "exception": false,
     "start_time": "2021-01-11T10:54:41.189714",
     "status": "completed"
    },
    "tags": []
   },
   "outputs": [
    {
     "data": {
      "image/png": "[encoded data removed]",
      "text/plain": [
       "<Figure size 432x288 with 4 Axes>"
      ]
     },
     "metadata": {},
     "output_type": "display_data"
    }
   ],
   "source": [
    "f, axes = plt.subplots(nrows = 2, ncols = 2)\n",
    "for i in range(4):\n",
    "    g = np.random.randint(0, 200)\n",
    "    sns.distplot(a = data['var_'+str(g)].values - data['var_'+str(g)].values.mean(),ax = axes[i//2][i%2], axlabel = ('var_'+str(g)))\n",
    "plt.show()"
   ]
  },
  {
   "cell_type": "code",
   "execution_count": 15,
   "metadata": {
    "execution": {
     "iopub.execute_input": "2021-01-11T10:54:43.050130Z",
     "iopub.status.busy": "2021-01-11T10:54:43.049055Z",
     "iopub.status.idle": "2021-01-11T10:54:43.099646Z",
     "shell.execute_reply": "2021-01-11T10:54:43.100180Z"
    },
    "papermill": {
     "duration": 0.113186,
     "end_time": "2021-01-11T10:54:43.100326",
     "exception": false,
     "start_time": "2021-01-11T10:54:42.987140",
     "status": "completed"
    },
    "tags": []
   },
   "outputs": [
    {
     "data": {
      "text/html": [
       "<div>\n",
       "<style scoped>\n",
       "    .dataframe tbody tr th:only-of-type {\n",
       "        vertical-align: middle;\n",
       "    }\n",
       "\n",
       "    .dataframe tbody tr th {\n",
       "        vertical-align: top;\n",
       "    }\n",
       "\n",
       "    .dataframe thead th {\n",
       "        text-align: right;\n",
       "    }\n",
       "</style>\n",
       "<table border=\"1\" class=\"dataframe\">\n",
       "  <thead>\n",
       "    <tr style=\"text-align: right;\">\n",
       "      <th></th>\n",
       "      <th>var_0</th>\n",
       "      <th>var_1</th>\n",
       "      <th>var_2</th>\n",
       "      <th>var_3</th>\n",
       "      <th>var_4</th>\n",
       "      <th>var_5</th>\n",
       "      <th>var_6</th>\n",
       "      <th>var_7</th>\n",
       "      <th>var_8</th>\n",
       "      <th>var_9</th>\n",
       "      <th>...</th>\n",
       "      <th>var_191</th>\n",
       "      <th>var_192</th>\n",
       "      <th>var_193</th>\n",
       "      <th>var_194</th>\n",
       "      <th>var_195</th>\n",
       "      <th>var_196</th>\n",
       "      <th>var_197</th>\n",
       "      <th>var_198</th>\n",
       "      <th>var_199</th>\n",
       "      <th>y</th>\n",
       "    </tr>\n",
       "  </thead>\n",
       "  <tbody>\n",
       "    <tr>\n",
       "      <th>0</th>\n",
       "      <td>8.9255</td>\n",
       "      <td>-6.7863</td>\n",
       "      <td>11.9081</td>\n",
       "      <td>5.0930</td>\n",
       "      <td>11.4607</td>\n",
       "      <td>-9.2834</td>\n",
       "      <td>5.1187</td>\n",
       "      <td>18.6266</td>\n",
       "      <td>-4.9200</td>\n",
       "      <td>5.7470</td>\n",
       "      <td>...</td>\n",
       "      <td>3.9642</td>\n",
       "      <td>3.1364</td>\n",
       "      <td>1.6910</td>\n",
       "      <td>18.5227</td>\n",
       "      <td>-2.3978</td>\n",
       "      <td>7.8784</td>\n",
       "      <td>8.5635</td>\n",
       "      <td>12.7803</td>\n",
       "      <td>-1.0914</td>\n",
       "      <td>0</td>\n",
       "    </tr>\n",
       "    <tr>\n",
       "      <th>2</th>\n",
       "      <td>8.6093</td>\n",
       "      <td>-2.7457</td>\n",
       "      <td>12.0805</td>\n",
       "      <td>7.8928</td>\n",
       "      <td>10.5825</td>\n",
       "      <td>-9.0837</td>\n",
       "      <td>6.9427</td>\n",
       "      <td>14.6155</td>\n",
       "      <td>-4.9193</td>\n",
       "      <td>5.9525</td>\n",
       "      <td>...</td>\n",
       "      <td>9.7905</td>\n",
       "      <td>1.6704</td>\n",
       "      <td>1.6858</td>\n",
       "      <td>21.6042</td>\n",
       "      <td>3.1417</td>\n",
       "      <td>-6.5213</td>\n",
       "      <td>8.2675</td>\n",
       "      <td>14.7222</td>\n",
       "      <td>0.3965</td>\n",
       "      <td>0</td>\n",
       "    </tr>\n",
       "    <tr>\n",
       "      <th>3</th>\n",
       "      <td>11.0604</td>\n",
       "      <td>-2.1518</td>\n",
       "      <td>8.9522</td>\n",
       "      <td>7.1957</td>\n",
       "      <td>12.5846</td>\n",
       "      <td>-1.8361</td>\n",
       "      <td>5.8428</td>\n",
       "      <td>14.9250</td>\n",
       "      <td>-5.8609</td>\n",
       "      <td>8.2450</td>\n",
       "      <td>...</td>\n",
       "      <td>4.7433</td>\n",
       "      <td>0.7178</td>\n",
       "      <td>1.4214</td>\n",
       "      <td>23.0347</td>\n",
       "      <td>-1.2706</td>\n",
       "      <td>-2.9275</td>\n",
       "      <td>10.2922</td>\n",
       "      <td>17.9697</td>\n",
       "      <td>-8.9996</td>\n",
       "      <td>0</td>\n",
       "    </tr>\n",
       "    <tr>\n",
       "      <th>4</th>\n",
       "      <td>9.8369</td>\n",
       "      <td>-1.4834</td>\n",
       "      <td>12.8746</td>\n",
       "      <td>6.6375</td>\n",
       "      <td>12.2772</td>\n",
       "      <td>2.4486</td>\n",
       "      <td>5.9405</td>\n",
       "      <td>19.2514</td>\n",
       "      <td>6.2654</td>\n",
       "      <td>7.6784</td>\n",
       "      <td>...</td>\n",
       "      <td>9.5214</td>\n",
       "      <td>-0.1508</td>\n",
       "      <td>9.1942</td>\n",
       "      <td>13.2876</td>\n",
       "      <td>-1.5121</td>\n",
       "      <td>3.9267</td>\n",
       "      <td>9.5031</td>\n",
       "      <td>17.9974</td>\n",
       "      <td>-8.8104</td>\n",
       "      <td>0</td>\n",
       "    </tr>\n",
       "    <tr>\n",
       "      <th>5</th>\n",
       "      <td>11.4763</td>\n",
       "      <td>-2.3182</td>\n",
       "      <td>12.6080</td>\n",
       "      <td>8.6264</td>\n",
       "      <td>10.9621</td>\n",
       "      <td>3.5609</td>\n",
       "      <td>4.5322</td>\n",
       "      <td>15.2255</td>\n",
       "      <td>3.5855</td>\n",
       "      <td>5.9790</td>\n",
       "      <td>...</td>\n",
       "      <td>6.6025</td>\n",
       "      <td>5.2912</td>\n",
       "      <td>0.4403</td>\n",
       "      <td>14.9452</td>\n",
       "      <td>1.0314</td>\n",
       "      <td>-3.6241</td>\n",
       "      <td>9.7670</td>\n",
       "      <td>12.5809</td>\n",
       "      <td>-4.7602</td>\n",
       "      <td>0</td>\n",
       "    </tr>\n",
       "    <tr>\n",
       "      <th>...</th>\n",
       "      <td>...</td>\n",
       "      <td>...</td>\n",
       "      <td>...</td>\n",
       "      <td>...</td>\n",
       "      <td>...</td>\n",
       "      <td>...</td>\n",
       "      <td>...</td>\n",
       "      <td>...</td>\n",
       "      <td>...</td>\n",
       "      <td>...</td>\n",
       "      <td>...</td>\n",
       "      <td>...</td>\n",
       "      <td>...</td>\n",
       "      <td>...</td>\n",
       "      <td>...</td>\n",
       "      <td>...</td>\n",
       "      <td>...</td>\n",
       "      <td>...</td>\n",
       "      <td>...</td>\n",
       "      <td>...</td>\n",
       "      <td>...</td>\n",
       "    </tr>\n",
       "    <tr>\n",
       "      <th>199993</th>\n",
       "      <td>13.2152</td>\n",
       "      <td>-5.8006</td>\n",
       "      <td>9.7260</td>\n",
       "      <td>6.5910</td>\n",
       "      <td>12.4612</td>\n",
       "      <td>-7.1652</td>\n",
       "      <td>6.0666</td>\n",
       "      <td>12.9887</td>\n",
       "      <td>4.8121</td>\n",
       "      <td>8.6043</td>\n",
       "      <td>...</td>\n",
       "      <td>8.8442</td>\n",
       "      <td>1.8096</td>\n",
       "      <td>-4.8314</td>\n",
       "      <td>22.0050</td>\n",
       "      <td>0.3916</td>\n",
       "      <td>6.7302</td>\n",
       "      <td>8.9709</td>\n",
       "      <td>14.5405</td>\n",
       "      <td>6.1149</td>\n",
       "      <td>0</td>\n",
       "    </tr>\n",
       "    <tr>\n",
       "      <th>199994</th>\n",
       "      <td>12.3925</td>\n",
       "      <td>-5.8821</td>\n",
       "      <td>11.2323</td>\n",
       "      <td>3.9237</td>\n",
       "      <td>10.4509</td>\n",
       "      <td>10.7262</td>\n",
       "      <td>7.0503</td>\n",
       "      <td>18.6968</td>\n",
       "      <td>-0.4976</td>\n",
       "      <td>6.0916</td>\n",
       "      <td>...</td>\n",
       "      <td>6.8687</td>\n",
       "      <td>3.7788</td>\n",
       "      <td>6.3378</td>\n",
       "      <td>14.4656</td>\n",
       "      <td>-1.4843</td>\n",
       "      <td>-3.9299</td>\n",
       "      <td>9.1164</td>\n",
       "      <td>16.3170</td>\n",
       "      <td>-7.5048</td>\n",
       "      <td>0</td>\n",
       "    </tr>\n",
       "    <tr>\n",
       "      <th>199995</th>\n",
       "      <td>11.4880</td>\n",
       "      <td>-0.4956</td>\n",
       "      <td>8.2622</td>\n",
       "      <td>3.5142</td>\n",
       "      <td>10.3404</td>\n",
       "      <td>11.6081</td>\n",
       "      <td>5.6709</td>\n",
       "      <td>15.1516</td>\n",
       "      <td>-0.6209</td>\n",
       "      <td>5.6669</td>\n",
       "      <td>...</td>\n",
       "      <td>13.2305</td>\n",
       "      <td>3.9901</td>\n",
       "      <td>0.9388</td>\n",
       "      <td>18.0249</td>\n",
       "      <td>-1.7939</td>\n",
       "      <td>2.1661</td>\n",
       "      <td>8.5326</td>\n",
       "      <td>16.6660</td>\n",
       "      <td>-17.8661</td>\n",
       "      <td>0</td>\n",
       "    </tr>\n",
       "    <tr>\n",
       "      <th>199997</th>\n",
       "      <td>11.2232</td>\n",
       "      <td>-5.0518</td>\n",
       "      <td>10.5127</td>\n",
       "      <td>5.6456</td>\n",
       "      <td>9.3410</td>\n",
       "      <td>-5.4086</td>\n",
       "      <td>4.5555</td>\n",
       "      <td>21.5571</td>\n",
       "      <td>0.1202</td>\n",
       "      <td>6.1629</td>\n",
       "      <td>...</td>\n",
       "      <td>5.4414</td>\n",
       "      <td>3.1032</td>\n",
       "      <td>4.8793</td>\n",
       "      <td>23.5311</td>\n",
       "      <td>-1.5736</td>\n",
       "      <td>1.2832</td>\n",
       "      <td>8.7155</td>\n",
       "      <td>13.8329</td>\n",
       "      <td>4.1995</td>\n",
       "      <td>0</td>\n",
       "    </tr>\n",
       "    <tr>\n",
       "      <th>199999</th>\n",
       "      <td>10.8762</td>\n",
       "      <td>-5.7105</td>\n",
       "      <td>12.1183</td>\n",
       "      <td>8.0328</td>\n",
       "      <td>11.5577</td>\n",
       "      <td>0.3488</td>\n",
       "      <td>5.2839</td>\n",
       "      <td>15.2058</td>\n",
       "      <td>-0.4541</td>\n",
       "      <td>9.3688</td>\n",
       "      <td>...</td>\n",
       "      <td>1.6893</td>\n",
       "      <td>0.1276</td>\n",
       "      <td>0.3766</td>\n",
       "      <td>15.2101</td>\n",
       "      <td>-2.4907</td>\n",
       "      <td>-2.2342</td>\n",
       "      <td>8.1857</td>\n",
       "      <td>12.1284</td>\n",
       "      <td>0.1385</td>\n",
       "      <td>0</td>\n",
       "    </tr>\n",
       "  </tbody>\n",
       "</table>\n",
       "<p>175104 rows × 201 columns</p>\n",
       "</div>"
      ],
      "text/plain": [
       "          var_0   var_1    var_2   var_3    var_4    var_5   var_6    var_7  \\\n",
       "0        8.9255 -6.7863  11.9081  5.0930  11.4607  -9.2834  5.1187  18.6266   \n",
       "2        8.6093 -2.7457  12.0805  7.8928  10.5825  -9.0837  6.9427  14.6155   \n",
       "3       11.0604 -2.1518   8.9522  7.1957  12.5846  -1.8361  5.8428  14.9250   \n",
       "4        9.8369 -1.4834  12.8746  6.6375  12.2772   2.4486  5.9405  19.2514   \n",
       "5       11.4763 -2.3182  12.6080  8.6264  10.9621   3.5609  4.5322  15.2255   \n",
       "...         ...     ...      ...     ...      ...      ...     ...      ...   \n",
       "199993  13.2152 -5.8006   9.7260  6.5910  12.4612  -7.1652  6.0666  12.9887   \n",
       "199994  12.3925 -5.8821  11.2323  3.9237  10.4509  10.7262  7.0503  18.6968   \n",
       "199995  11.4880 -0.4956   8.2622  3.5142  10.3404  11.6081  5.6709  15.1516   \n",
       "199997  11.2232 -5.0518  10.5127  5.6456   9.3410  -5.4086  4.5555  21.5571   \n",
       "199999  10.8762 -5.7105  12.1183  8.0328  11.5577   0.3488  5.2839  15.2058   \n",
       "\n",
       "         var_8   var_9  ...  var_191  var_192  var_193  var_194  var_195  \\\n",
       "0      -4.9200  5.7470  ...   3.9642   3.1364   1.6910  18.5227  -2.3978   \n",
       "2      -4.9193  5.9525  ...   9.7905   1.6704   1.6858  21.6042   3.1417   \n",
       "3      -5.8609  8.2450  ...   4.7433   0.7178   1.4214  23.0347  -1.2706   \n",
       "4       6.2654  7.6784  ...   9.5214  -0.1508   9.1942  13.2876  -1.5121   \n",
       "5       3.5855  5.9790  ...   6.6025   5.2912   0.4403  14.9452   1.0314   \n",
       "...        ...     ...  ...      ...      ...      ...      ...      ...   \n",
       "199993  4.8121  8.6043  ...   8.8442   1.8096  -4.8314  22.0050   0.3916   \n",
       "199994 -0.4976  6.0916  ...   6.8687   3.7788   6.3378  14.4656  -1.4843   \n",
       "199995 -0.6209  5.6669  ...  13.2305   3.9901   0.9388  18.0249  -1.7939   \n",
       "199997  0.1202  6.1629  ...   5.4414   3.1032   4.8793  23.5311  -1.5736   \n",
       "199999 -0.4541  9.3688  ...   1.6893   0.1276   0.3766  15.2101  -2.4907   \n",
       "\n",
       "        var_196  var_197  var_198  var_199  y  \n",
       "0        7.8784   8.5635  12.7803  -1.0914  0  \n",
       "2       -6.5213   8.2675  14.7222   0.3965  0  \n",
       "3       -2.9275  10.2922  17.9697  -8.9996  0  \n",
       "4        3.9267   9.5031  17.9974  -8.8104  0  \n",
       "5       -3.6241   9.7670  12.5809  -4.7602  0  \n",
       "...         ...      ...      ...      ... ..  \n",
       "199993   6.7302   8.9709  14.5405   6.1149  0  \n",
       "199994  -3.9299   9.1164  16.3170  -7.5048  0  \n",
       "199995   2.1661   8.5326  16.6660 -17.8661  0  \n",
       "199997   1.2832   8.7155  13.8329   4.1995  0  \n",
       "199999  -2.2342   8.1857  12.1284   0.1385  0  \n",
       "\n",
       "[175104 rows x 201 columns]"
      ]
     },
     "execution_count": 15,
     "metadata": {},
     "output_type": "execute_result"
    }
   ],
   "source": [
    "data"
   ]
  },
  {
   "cell_type": "markdown",
   "metadata": {
    "papermill": {
     "duration": 0.050408,
     "end_time": "2021-01-11T10:54:43.200172",
     "exception": false,
     "start_time": "2021-01-11T10:54:43.149764",
     "status": "completed"
    },
    "tags": []
   },
   "source": [
    "# **Machine Learning**"
   ]
  },
  {
   "cell_type": "markdown",
   "metadata": {
    "papermill": {
     "duration": 0.04984,
     "end_time": "2021-01-11T10:54:43.300851",
     "exception": false,
     "start_time": "2021-01-11T10:54:43.251011",
     "status": "completed"
    },
    "tags": []
   },
   "source": [
    "To trade off the imbalance I'll undersample the majority class and oversample the minority class (using SMOTE)"
   ]
  },
  {
   "cell_type": "code",
   "execution_count": 16,
   "metadata": {
    "execution": {
     "iopub.execute_input": "2021-01-11T10:54:43.407918Z",
     "iopub.status.busy": "2021-01-11T10:54:43.406969Z",
     "iopub.status.idle": "2021-01-11T10:54:43.597165Z",
     "shell.execute_reply": "2021-01-11T10:54:43.597691Z"
    },
    "papermill": {
     "duration": 0.247292,
     "end_time": "2021-01-11T10:54:43.597840",
     "exception": false,
     "start_time": "2021-01-11T10:54:43.350548",
     "status": "completed"
    },
    "tags": []
   },
   "outputs": [],
   "source": [
    "y = np.array(data['y'].values, dtype = int)\n",
    "X = np.array(data.drop('y', axis = 1).values, dtype = float)"
   ]
  },
  {
   "cell_type": "markdown",
   "metadata": {
    "papermill": {
     "duration": 0.048987,
     "end_time": "2021-01-11T10:54:43.695821",
     "exception": false,
     "start_time": "2021-01-11T10:54:43.646834",
     "status": "completed"
    },
    "tags": []
   },
   "source": [
    "Scaling the values"
   ]
  },
  {
   "cell_type": "code",
   "execution_count": 17,
   "metadata": {
    "execution": {
     "iopub.execute_input": "2021-01-11T10:54:43.800830Z",
     "iopub.status.busy": "2021-01-11T10:54:43.800143Z",
     "iopub.status.idle": "2021-01-11T10:54:44.630724Z",
     "shell.execute_reply": "2021-01-11T10:54:44.630067Z"
    },
    "papermill": {
     "duration": 0.884943,
     "end_time": "2021-01-11T10:54:44.630862",
     "exception": false,
     "start_time": "2021-01-11T10:54:43.745919",
     "status": "completed"
    },
    "tags": []
   },
   "outputs": [],
   "source": [
    "from sklearn.preprocessing import StandardScaler\n",
    "scaler = StandardScaler()\n",
    "X1 = scaler.fit_transform(X)"
   ]
  },
  {
   "cell_type": "markdown",
   "metadata": {
    "papermill": {
     "duration": 0.07376,
     "end_time": "2021-01-11T10:54:44.784096",
     "exception": false,
     "start_time": "2021-01-11T10:54:44.710336",
     "status": "completed"
    },
    "tags": []
   },
   "source": [
    "Using SMOTE to oversample target = 1 data points and then RandomUnderSampling the obtained data such that the ratio of target = 1/ target = 0 data points is 1/2"
   ]
  },
  {
   "cell_type": "code",
   "execution_count": 18,
   "metadata": {
    "execution": {
     "iopub.execute_input": "2021-01-11T10:54:44.937102Z",
     "iopub.status.busy": "2021-01-11T10:54:44.936184Z",
     "iopub.status.idle": "2021-01-11T10:57:14.817747Z",
     "shell.execute_reply": "2021-01-11T10:57:14.816527Z"
    },
    "papermill": {
     "duration": 149.960918,
     "end_time": "2021-01-11T10:57:14.817908",
     "exception": false,
     "start_time": "2021-01-11T10:54:44.856990",
     "status": "completed"
    },
    "tags": []
   },
   "outputs": [],
   "source": [
    "from imblearn.over_sampling import SMOTE\n",
    "from imblearn.under_sampling import RandomUnderSampler\n",
    "smote = SMOTE(sampling_strategy = 3/7, k_neighbors = 5, random_state = 9)\n",
    "under = RandomUnderSampler(sampling_strategy = 0.5)\n",
    "X1, y = smote.fit_resample(X1, y)\n",
    "X1, y = under.fit_resample(X1, y)"
   ]
  },
  {
   "cell_type": "code",
   "execution_count": 19,
   "metadata": {
    "execution": {
     "iopub.execute_input": "2021-01-11T10:57:14.932820Z",
     "iopub.status.busy": "2021-01-11T10:57:14.930883Z",
     "iopub.status.idle": "2021-01-11T10:57:14.937137Z",
     "shell.execute_reply": "2021-01-11T10:57:14.936254Z"
    },
    "papermill": {
     "duration": 0.065556,
     "end_time": "2021-01-11T10:57:14.937310",
     "exception": false,
     "start_time": "2021-01-11T10:57:14.871754",
     "status": "completed"
    },
    "tags": []
   },
   "outputs": [
    {
     "name": "stdout",
     "output_type": "stream",
     "text": [
      "1\t 0.3333333333333333 % \n",
      "0\t 0.6666666666666666 %\n"
     ]
    }
   ],
   "source": [
    "print('1\\t', len(y[y==1])/len(y), '% \\n0\\t', len(y[y==0])/len(y), '%')"
   ]
  },
  {
   "cell_type": "markdown",
   "metadata": {
    "papermill": {
     "duration": 0.0522,
     "end_time": "2021-01-11T10:57:15.042962",
     "exception": false,
     "start_time": "2021-01-11T10:57:14.990762",
     "status": "completed"
    },
    "tags": []
   },
   "source": [
    "Split the data into train and validation"
   ]
  },
  {
   "cell_type": "code",
   "execution_count": 20,
   "metadata": {
    "execution": {
     "iopub.execute_input": "2021-01-11T10:57:15.153394Z",
     "iopub.status.busy": "2021-01-11T10:57:15.152564Z",
     "iopub.status.idle": "2021-01-11T10:57:15.276380Z",
     "shell.execute_reply": "2021-01-11T10:57:15.275749Z"
    },
    "papermill": {
     "duration": 0.180857,
     "end_time": "2021-01-11T10:57:15.276522",
     "exception": false,
     "start_time": "2021-01-11T10:57:15.095665",
     "status": "completed"
    },
    "tags": []
   },
   "outputs": [],
   "source": [
    "from sklearn.model_selection import train_test_split\n",
    "X_train, X_val, y_train, y_val = train_test_split(X1, y, test_size = 0.2)"
   ]
  },
  {
   "cell_type": "markdown",
   "metadata": {
    "papermill": {
     "duration": 0.051529,
     "end_time": "2021-01-11T10:57:15.381242",
     "exception": false,
     "start_time": "2021-01-11T10:57:15.329713",
     "status": "completed"
    },
    "tags": []
   },
   "source": [
    "First applying Logistic Regression(LR). LR will form the base algorithm and every other algorithm's performace will be compared to it."
   ]
  },
  {
   "cell_type": "code",
   "execution_count": 21,
   "metadata": {
    "execution": {
     "iopub.execute_input": "2021-01-11T10:57:15.494580Z",
     "iopub.status.busy": "2021-01-11T10:57:15.493577Z",
     "iopub.status.idle": "2021-01-11T10:57:50.949949Z",
     "shell.execute_reply": "2021-01-11T10:57:50.950508Z"
    },
    "papermill": {
     "duration": 35.517839,
     "end_time": "2021-01-11T10:57:50.950664",
     "exception": false,
     "start_time": "2021-01-11T10:57:15.432825",
     "status": "completed"
    },
    "tags": []
   },
   "outputs": [
    {
     "data": {
      "text/plain": [
       "GridSearchCV(estimator=LogisticRegression(),\n",
       "             param_grid={'C': [0.0001, 0.0003, 0.0005, 0.001, 0.003, 0.005,\n",
       "                               0.01, 0.03, 0.05, 0.1, 0.3, 0.5]})"
      ]
     },
     "execution_count": 21,
     "metadata": {},
     "output_type": "execute_result"
    }
   ],
   "source": [
    "from sklearn.model_selection import GridSearchCV\n",
    "from sklearn.linear_model import LogisticRegression\n",
    "params = {'C' : [0.0001, 0.0003, 0.0005, 0.001, 0.003, 0.005, 0.01, 0.03, 0.05, 0.1, 0.3, 0.5]}\n",
    "clf = GridSearchCV(LogisticRegression(), params)\n",
    "clf.fit(X_train, y_train)"
   ]
  },
  {
   "cell_type": "code",
   "execution_count": 22,
   "metadata": {
    "execution": {
     "iopub.execute_input": "2021-01-11T10:57:51.063321Z",
     "iopub.status.busy": "2021-01-11T10:57:51.062125Z",
     "iopub.status.idle": "2021-01-11T10:57:51.082158Z",
     "shell.execute_reply": "2021-01-11T10:57:51.082656Z"
    },
    "papermill": {
     "duration": 0.079122,
     "end_time": "2021-01-11T10:57:51.082782",
     "exception": false,
     "start_time": "2021-01-11T10:57:51.003660",
     "status": "completed"
    },
    "tags": []
   },
   "outputs": [
    {
     "data": {
      "text/plain": [
       "0.8088264251255292"
      ]
     },
     "execution_count": 22,
     "metadata": {},
     "output_type": "execute_result"
    }
   ],
   "source": [
    "(clf.score(X_val, y_val))"
   ]
  },
  {
   "cell_type": "code",
   "execution_count": 23,
   "metadata": {
    "execution": {
     "iopub.execute_input": "2021-01-11T10:57:51.202033Z",
     "iopub.status.busy": "2021-01-11T10:57:51.200733Z",
     "iopub.status.idle": "2021-01-11T10:57:51.217718Z",
     "shell.execute_reply": "2021-01-11T10:57:51.217094Z"
    },
    "papermill": {
     "duration": 0.082463,
     "end_time": "2021-01-11T10:57:51.217838",
     "exception": false,
     "start_time": "2021-01-11T10:57:51.135375",
     "status": "completed"
    },
    "tags": []
   },
   "outputs": [],
   "source": [
    "pred_prob = clf.predict_proba(X_val)"
   ]
  },
  {
   "cell_type": "markdown",
   "metadata": {
    "papermill": {
     "duration": 0.052201,
     "end_time": "2021-01-11T10:57:51.327326",
     "exception": false,
     "start_time": "2021-01-11T10:57:51.275125",
     "status": "completed"
    },
    "tags": []
   },
   "source": [
    "In a Classification problem accuracy is not a good measure of performance. Thus using AUC-ROC to compare the performance."
   ]
  },
  {
   "cell_type": "code",
   "execution_count": 24,
   "metadata": {
    "execution": {
     "iopub.execute_input": "2021-01-11T10:57:51.446529Z",
     "iopub.status.busy": "2021-01-11T10:57:51.444771Z",
     "iopub.status.idle": "2021-01-11T10:57:51.447177Z",
     "shell.execute_reply": "2021-01-11T10:57:51.447689Z"
    },
    "papermill": {
     "duration": 0.068111,
     "end_time": "2021-01-11T10:57:51.447806",
     "exception": false,
     "start_time": "2021-01-11T10:57:51.379695",
     "status": "completed"
    },
    "tags": []
   },
   "outputs": [],
   "source": [
    "from sklearn.metrics import roc_curve\n",
    "from sklearn.metrics import roc_auc_score\n",
    "def auc_roc_plot(x, y, l, colors):\n",
    "    #roc curve for clf\n",
    "    fpr, tpr, thresh = roc_curve(y_val, pred_prob[:, 1], pos_label = 1)\n",
    "\n",
    "    # for fpr = tpr\n",
    "    random_probs = [0 for i in range(len(y_val))]\n",
    "    p_fpr, p_tpr, _ = roc_curve(y_val, random_probs, pos_label=1)\n",
    "\n",
    "    #auc\n",
    "    auc_score = roc_auc_score(y_val, pred_prob[:, 1])\n",
    "\n",
    "    #plot\n",
    "    plt.plot(fpr, tpr, linestyle = '--', color = 'orange', label = \"LogisticRegression\")\n",
    "    for i in range(len(x)):\n",
    "        plt.plot(x[i], y[i], linestyle = '--', color = colors[i], label = l[i])\n",
    "    plt.plot(p_fpr, p_tpr, linestyle = '--', color = 'blue')\n",
    "    plt.title(\"ROC curve\")\n",
    "    plt.xlabel(\"False Positive Rate\")\n",
    "    plt.ylabel(\"True Positive Rate\")\n",
    "    plt.legend(loc = 'best')\n",
    "    plt.show()"
   ]
  },
  {
   "cell_type": "code",
   "execution_count": 25,
   "metadata": {
    "execution": {
     "iopub.execute_input": "2021-01-11T10:57:51.563583Z",
     "iopub.status.busy": "2021-01-11T10:57:51.562877Z",
     "iopub.status.idle": "2021-01-11T10:57:56.645613Z",
     "shell.execute_reply": "2021-01-11T10:57:56.644435Z"
    },
    "papermill": {
     "duration": 5.142788,
     "end_time": "2021-01-11T10:57:56.645747",
     "exception": false,
     "start_time": "2021-01-11T10:57:51.502959",
     "status": "completed"
    },
    "tags": []
   },
   "outputs": [],
   "source": [
    "from sklearn.ensemble import RandomForestClassifier\n",
    "from sklearn.tree import DecisionTreeClassifier\n",
    "from xgboost import XGBClassifier\n",
    "from sklearn.neighbors import KNeighborsClassifier"
   ]
  },
  {
   "cell_type": "code",
   "execution_count": 26,
   "metadata": {
    "execution": {
     "iopub.execute_input": "2021-01-11T10:57:56.770619Z",
     "iopub.status.busy": "2021-01-11T10:57:56.768639Z",
     "iopub.status.idle": "2021-01-11T10:57:56.771305Z",
     "shell.execute_reply": "2021-01-11T10:57:56.771803Z"
    },
    "papermill": {
     "duration": 0.06956,
     "end_time": "2021-01-11T10:57:56.771930",
     "exception": false,
     "start_time": "2021-01-11T10:57:56.702370",
     "status": "completed"
    },
    "tags": []
   },
   "outputs": [],
   "source": [
    "fprs = []\n",
    "tprs = []\n",
    "labels = []\n",
    "colors = []"
   ]
  },
  {
   "cell_type": "markdown",
   "metadata": {
    "papermill": {
     "duration": 0.054694,
     "end_time": "2021-01-11T10:57:56.881160",
     "exception": false,
     "start_time": "2021-01-11T10:57:56.826466",
     "status": "completed"
    },
    "tags": []
   },
   "source": [
    "Applying RandomForestClassifier"
   ]
  },
  {
   "cell_type": "code",
   "execution_count": 27,
   "metadata": {
    "execution": {
     "iopub.execute_input": "2021-01-11T10:57:57.005617Z",
     "iopub.status.busy": "2021-01-11T10:57:57.004238Z",
     "iopub.status.idle": "2021-01-11T11:04:31.771962Z",
     "shell.execute_reply": "2021-01-11T11:04:31.771322Z"
    },
    "papermill": {
     "duration": 394.835847,
     "end_time": "2021-01-11T11:04:31.772100",
     "exception": false,
     "start_time": "2021-01-11T10:57:56.936253",
     "status": "completed"
    },
    "tags": []
   },
   "outputs": [],
   "source": [
    "clf_rf = RandomForestClassifier()\n",
    "clf_rf.fit(X_train, y_train)\n",
    "clf_rf_pp = clf_rf.predict_proba(X_val)\n",
    "clf_rf_fpr, clf_rf_tpr, _ = roc_curve(y_val, clf_rf_pp[:, 1], pos_label = 1)\n",
    "fprs.append(clf_rf_fpr)\n",
    "tprs.append(clf_rf_tpr)\n",
    "labels.append('Random Forest')\n",
    "colors.append('r')"
   ]
  },
  {
   "cell_type": "markdown",
   "metadata": {
    "papermill": {
     "duration": 0.055283,
     "end_time": "2021-01-11T11:04:31.883685",
     "exception": false,
     "start_time": "2021-01-11T11:04:31.828402",
     "status": "completed"
    },
    "tags": []
   },
   "source": [
    "Applying DecisionTreeClassifier"
   ]
  },
  {
   "cell_type": "code",
   "execution_count": 28,
   "metadata": {
    "execution": {
     "iopub.execute_input": "2021-01-11T11:04:32.002289Z",
     "iopub.status.busy": "2021-01-11T11:04:32.000873Z",
     "iopub.status.idle": "2021-01-11T11:06:00.298414Z",
     "shell.execute_reply": "2021-01-11T11:06:00.297734Z"
    },
    "papermill": {
     "duration": 88.358945,
     "end_time": "2021-01-11T11:06:00.298537",
     "exception": false,
     "start_time": "2021-01-11T11:04:31.939592",
     "status": "completed"
    },
    "tags": []
   },
   "outputs": [],
   "source": [
    "clf_dt = DecisionTreeClassifier()\n",
    "clf_dt.fit(X_train, y_train)\n",
    "clf_dt_pp = clf_dt.predict_proba(X_val)\n",
    "clf_dt_fpr, clf_dt_tpr, _ = roc_curve(y_val, clf_dt_pp[:, 1], pos_label = 1)\n",
    "fprs.append(clf_dt_fpr)\n",
    "tprs.append(clf_dt_tpr)\n",
    "labels.append('Decision Tree')\n",
    "colors.append('c')"
   ]
  },
  {
   "cell_type": "markdown",
   "metadata": {
    "papermill": {
     "duration": 0.05373,
     "end_time": "2021-01-11T11:06:00.405433",
     "exception": false,
     "start_time": "2021-01-11T11:06:00.351703",
     "status": "completed"
    },
    "tags": []
   },
   "source": [
    "Applying XGBoost Classifier"
   ]
  },
  {
   "cell_type": "code",
   "execution_count": 29,
   "metadata": {
    "execution": {
     "iopub.execute_input": "2021-01-11T11:06:00.520505Z",
     "iopub.status.busy": "2021-01-11T11:06:00.519521Z",
     "iopub.status.idle": "2021-01-11T11:13:17.437957Z",
     "shell.execute_reply": "2021-01-11T11:13:17.436623Z"
    },
    "papermill": {
     "duration": 436.97914,
     "end_time": "2021-01-11T11:13:17.438106",
     "exception": false,
     "start_time": "2021-01-11T11:06:00.458966",
     "status": "completed"
    },
    "tags": []
   },
   "outputs": [],
   "source": [
    "clf_xgb = XGBClassifier()\n",
    "clf_xgb.fit(X_train, y_train)\n",
    "clf_xgb_pp = clf_xgb.predict_proba(X_val)\n",
    "clf_xgb_fpr, clf_xgb_tpr, _ = roc_curve(y_val, clf_xgb_pp[:, 1], pos_label = 1)\n",
    "fprs.append(clf_xgb_fpr)\n",
    "tprs.append(clf_xgb_tpr)\n",
    "labels.append('XGB')\n",
    "colors.append('m')"
   ]
  },
  {
   "cell_type": "markdown",
   "metadata": {
    "papermill": {
     "duration": 0.078818,
     "end_time": "2021-01-11T11:13:17.697146",
     "exception": false,
     "start_time": "2021-01-11T11:13:17.618328",
     "status": "completed"
    },
    "tags": []
   },
   "source": [
    "Visualising the AUC-ROC plots"
   ]
  },
  {
   "cell_type": "code",
   "execution_count": 30,
   "metadata": {
    "execution": {
     "iopub.execute_input": "2021-01-11T11:13:17.864865Z",
     "iopub.status.busy": "2021-01-11T11:13:17.863692Z",
     "iopub.status.idle": "2021-01-11T11:13:18.284614Z",
     "shell.execute_reply": "2021-01-11T11:13:18.285129Z"
    },
    "papermill": {
     "duration": 0.510577,
     "end_time": "2021-01-11T11:13:18.285278",
     "exception": false,
     "start_time": "2021-01-11T11:13:17.774701",
     "status": "completed"
    },
    "tags": []
   },
   "outputs": [
    {
     "data": {
      "image/png": "[encoded data removed]",
      "text/plain": [
       "<Figure size 432x288 with 1 Axes>"
      ]
     },
     "metadata": {},
     "output_type": "display_data"
    }
   ],
   "source": [
    "auc_roc_plot(fprs, tprs, labels, colors)"
   ]
  },
  {
   "cell_type": "markdown",
   "metadata": {
    "papermill": {
     "duration": 0.059777,
     "end_time": "2021-01-11T11:13:18.407294",
     "exception": false,
     "start_time": "2021-01-11T11:13:18.347517",
     "status": "completed"
    },
    "tags": []
   },
   "source": [
    "It is evident that the RandomForestClassifier does a good job followed by XGBClassifier then LogisticRegression (which was the baseline for comparison)"
   ]
  },
  {
   "cell_type": "code",
   "execution_count": 31,
   "metadata": {
    "execution": {
     "iopub.execute_input": "2021-01-11T11:13:18.537948Z",
     "iopub.status.busy": "2021-01-11T11:13:18.536807Z",
     "iopub.status.idle": "2021-01-11T11:13:19.846048Z",
     "shell.execute_reply": "2021-01-11T11:13:19.846630Z"
    },
    "papermill": {
     "duration": 1.378341,
     "end_time": "2021-01-11T11:13:19.846777",
     "exception": false,
     "start_time": "2021-01-11T11:13:18.468436",
     "status": "completed"
    },
    "tags": []
   },
   "outputs": [
    {
     "data": {
      "text/plain": [
       "0.8941862754750418"
      ]
     },
     "execution_count": 31,
     "metadata": {},
     "output_type": "execute_result"
    }
   ],
   "source": [
    "clf_rf.score(X_val, y_val)"
   ]
  },
  {
   "cell_type": "markdown",
   "metadata": {},
   "source": [
    "## Submission - ATTEMPT 1"
   ]
  },
  {
   "cell_type": "markdown",
   "metadata": {},
   "source": [
    "* Using RandomForestClassifier, for test data 99.9% values were predicted to be 0.\n",
    "* Upon submission the score obtained was 0.5 (out of 1)"
   ]
  },
  {
   "cell_type": "markdown",
   "metadata": {
    "papermill": {
     "duration": 0.060554,
     "end_time": "2021-01-11T11:13:42.981308",
     "exception": false,
     "start_time": "2021-01-11T11:13:42.920754",
     "status": "completed"
    },
    "tags": []
   },
   "source": [
    "## Applying Deep Learning"
   ]
  },
  {
   "cell_type": "code",
   "execution_count": 41,
   "metadata": {
    "execution": {
     "iopub.execute_input": "2021-01-11T11:13:43.108025Z",
     "iopub.status.busy": "2021-01-11T11:13:43.107222Z",
     "iopub.status.idle": "2021-01-11T11:13:54.143844Z",
     "shell.execute_reply": "2021-01-11T11:13:54.142735Z"
    },
    "papermill": {
     "duration": 11.104054,
     "end_time": "2021-01-11T11:13:54.143996",
     "exception": false,
     "start_time": "2021-01-11T11:13:43.039942",
     "status": "completed"
    },
    "tags": []
   },
   "outputs": [],
   "source": [
    "from keras.models import Sequential\n",
    "from keras.layers import Dense\n",
    "model = Sequential([Dense(256, activation = 'relu', input_dim = X_train.shape[1]),\n",
    "           Dense(256, activation = 'relu'),\n",
    "           Dense(512, activation = 'relu'),\n",
    "           Dense(512, activation = 'relu'),\n",
    "           Dense(1024, activation = 'relu'),\n",
    "           Dense(1024, activation = 'relu'),\n",
    "           Dense(1024, activation = 'relu'),\n",
    "           Dense(1024, activation = 'relu'),\n",
    "           Dense(512, activation = 'relu'),\n",
    "           Dense(512, activation = 'relu'),\n",
    "           Dense(256, activation = 'relu'),\n",
    "           Dense(256, activation = 'relu'),\n",
    "           Dense(1, activation = 'sigmoid')\n",
    "            ]\n",
    "          )\n",
    "model.compile(optimizer = 'adam', loss = 'BinaryCrossentropy', metrics = 'AUC')"
   ]
  },
  {
   "cell_type": "code",
   "execution_count": 42,
   "metadata": {
    "execution": {
     "iopub.execute_input": "2021-01-11T11:13:54.278837Z",
     "iopub.status.busy": "2021-01-11T11:13:54.272150Z",
     "iopub.status.idle": "2021-01-11T11:13:54.292947Z",
     "shell.execute_reply": "2021-01-11T11:13:54.292385Z"
    },
    "papermill": {
     "duration": 0.088548,
     "end_time": "2021-01-11T11:13:54.293055",
     "exception": false,
     "start_time": "2021-01-11T11:13:54.204507",
     "status": "completed"
    },
    "tags": []
   },
   "outputs": [
    {
     "name": "stdout",
     "output_type": "stream",
     "text": [
      "Model: \"sequential\"\n",
      "_________________________________________________________________\n",
      "Layer (type)                 Output Shape              Param #   \n",
      "=================================================================\n",
      "dense (Dense)                (None, 256)               51456     \n",
      "_________________________________________________________________\n",
      "dense_1 (Dense)              (None, 256)               65792     \n",
      "_________________________________________________________________\n",
      "dense_2 (Dense)              (None, 512)               131584    \n",
      "_________________________________________________________________\n",
      "dense_3 (Dense)              (None, 512)               262656    \n",
      "_________________________________________________________________\n",
      "dense_4 (Dense)              (None, 1024)              525312    \n",
      "_________________________________________________________________\n",
      "dense_5 (Dense)              (None, 1024)              1049600   \n",
      "_________________________________________________________________\n",
      "dense_6 (Dense)              (None, 1024)              1049600   \n",
      "_________________________________________________________________\n",
      "dense_7 (Dense)              (None, 1024)              1049600   \n",
      "_________________________________________________________________\n",
      "dense_8 (Dense)              (None, 512)               524800    \n",
      "_________________________________________________________________\n",
      "dense_9 (Dense)              (None, 512)               262656    \n",
      "_________________________________________________________________\n",
      "dense_10 (Dense)             (None, 256)               131328    \n",
      "_________________________________________________________________\n",
      "dense_11 (Dense)             (None, 256)               65792     \n",
      "_________________________________________________________________\n",
      "dense_12 (Dense)             (None, 1)                 257       \n",
      "=================================================================\n",
      "Total params: 5,170,433\n",
      "Trainable params: 5,170,433\n",
      "Non-trainable params: 0\n",
      "_________________________________________________________________\n"
     ]
    }
   ],
   "source": [
    "model.summary()"
   ]
  },
  {
   "cell_type": "code",
   "execution_count": 43,
   "metadata": {
    "execution": {
     "iopub.execute_input": "2021-01-11T11:13:54.418532Z",
     "iopub.status.busy": "2021-01-11T11:13:54.417713Z",
     "iopub.status.idle": "2021-01-11T11:23:13.108908Z",
     "shell.execute_reply": "2021-01-11T11:23:13.108318Z"
    },
    "papermill": {
     "duration": 558.755521,
     "end_time": "2021-01-11T11:23:13.109038",
     "exception": false,
     "start_time": "2021-01-11T11:13:54.353517",
     "status": "completed"
    },
    "tags": []
   },
   "outputs": [
    {
     "name": "stdout",
     "output_type": "stream",
     "text": [
      "Epoch 1/20\n",
      "5079/5079 [==============================] - 26s 5ms/step - loss: 0.3600 - auc: 0.9054 - val_loss: 0.3128 - val_auc: 0.9289\n",
      "Epoch 2/20\n",
      "5079/5079 [==============================] - 25s 5ms/step - loss: 0.2770 - auc: 0.9426 - val_loss: 0.2901 - val_auc: 0.9415\n",
      "Epoch 3/20\n",
      "5079/5079 [==============================] - 27s 5ms/step - loss: 0.2314 - auc: 0.9596 - val_loss: 0.2830 - val_auc: 0.9486\n",
      "Epoch 4/20\n",
      "5079/5079 [==============================] - 26s 5ms/step - loss: 0.1930 - auc: 0.9717 - val_loss: 0.2622 - val_auc: 0.9505\n",
      "Epoch 5/20\n",
      "5079/5079 [==============================] - 27s 5ms/step - loss: 0.1584 - auc: 0.9809 - val_loss: 0.2707 - val_auc: 0.9548\n",
      "Epoch 6/20\n",
      "5079/5079 [==============================] - 26s 5ms/step - loss: 0.1326 - auc: 0.9865 - val_loss: 0.5240 - val_auc: 0.9571\n",
      "Epoch 7/20\n",
      "5079/5079 [==============================] - 27s 5ms/step - loss: 0.2728 - auc: 0.9905 - val_loss: 0.2763 - val_auc: 0.9582\n",
      "Epoch 8/20\n",
      "5079/5079 [==============================] - 26s 5ms/step - loss: 0.0896 - auc: 0.9936 - val_loss: 0.2667 - val_auc: 0.9603\n",
      "Epoch 9/20\n",
      "5079/5079 [==============================] - 27s 5ms/step - loss: 0.0823 - auc: 0.9947 - val_loss: 0.2974 - val_auc: 0.9599\n",
      "Epoch 10/20\n",
      "5079/5079 [==============================] - 27s 5ms/step - loss: 0.0681 - auc: 0.9963 - val_loss: 0.2835 - val_auc: 0.9597\n",
      "Epoch 11/20\n",
      "5079/5079 [==============================] - 27s 5ms/step - loss: 0.0621 - auc: 0.9968 - val_loss: 1.3581 - val_auc: 0.9567\n",
      "Epoch 12/20\n",
      "5079/5079 [==============================] - 26s 5ms/step - loss: 0.0589 - auc: 0.9975 - val_loss: 0.4584 - val_auc: 0.9579\n",
      "Epoch 13/20\n",
      "5079/5079 [==============================] - 26s 5ms/step - loss: 0.0417 - auc: 0.9984 - val_loss: 0.3649 - val_auc: 0.9574\n",
      "Epoch 14/20\n",
      "5079/5079 [==============================] - 28s 6ms/step - loss: 0.0461 - auc: 0.9982 - val_loss: 0.4080 - val_auc: 0.9567\n",
      "Epoch 15/20\n",
      "5079/5079 [==============================] - 27s 5ms/step - loss: 0.0447 - auc: 0.9983 - val_loss: 0.4847 - val_auc: 0.9576\n",
      "Epoch 16/20\n",
      "5079/5079 [==============================] - 27s 5ms/step - loss: 0.1383 - auc: 0.9986 - val_loss: 0.4426 - val_auc: 0.9503\n",
      "Epoch 17/20\n",
      "5079/5079 [==============================] - 50s 10ms/step - loss: 0.0278 - auc: 0.9991 - val_loss: 0.5257 - val_auc: 0.9561\n",
      "Epoch 18/20\n",
      "5079/5079 [==============================] - 26s 5ms/step - loss: 0.0325 - auc: 0.9991 - val_loss: 0.5037 - val_auc: 0.9554\n",
      "Epoch 19/20\n",
      "5079/5079 [==============================] - 25s 5ms/step - loss: 0.0313 - auc: 0.9990 - val_loss: 1.3153 - val_auc: 0.9564\n",
      "Epoch 20/20\n",
      "5079/5079 [==============================] - 29s 6ms/step - loss: 0.0320 - auc: 0.9990 - val_loss: 3.2261 - val_auc: 0.9525\n"
     ]
    },
    {
     "data": {
      "text/plain": [
       "<tensorflow.python.keras.callbacks.History at 0x7f3956515b90>"
      ]
     },
     "execution_count": 43,
     "metadata": {},
     "output_type": "execute_result"
    }
   ],
   "source": [
    "model.fit(X_train, y_train, epochs = 20, validation_data = (X_val, y_val))"
   ]
  },
  {
   "cell_type": "markdown",
   "metadata": {},
   "source": [
    "# Submission - ATTEMPT 2"
   ]
  },
  {
   "cell_type": "markdown",
   "metadata": {
    "papermill": {
     "duration": 4.040168,
     "end_time": "2021-01-11T11:23:56.297780",
     "exception": false,
     "start_time": "2021-01-11T11:23:52.257612",
     "status": "completed"
    },
    "tags": []
   },
   "source": [
    "* Using Deep Learning, upon submission the score obtained was 0.65"
   ]
  }
 ],
 "metadata": {
  "kernelspec": {
   "display_name": "Python 3",
   "language": "python",
   "name": "python3"
  },
  "language_info": {
   "codemirror_mode": {
    "name": "ipython",
    "version": 3
   },
   "file_extension": ".py",
   "mimetype": "text/x-python",
   "name": "python",
   "nbconvert_exporter": "python",
   "pygments_lexer": "ipython3",
   "version": "3.7.6"
  },
  "papermill": {
   "duration": 1860.624186,
   "end_time": "2021-01-11T11:24:08.625277",
   "environment_variables": {},
   "exception": null,
   "input_path": "__notebook__.ipynb",
   "output_path": "__notebook__.ipynb",
   "parameters": {},
   "start_time": "2021-01-11T10:53:08.001091",
   "version": "2.1.0"
  }
 },
 "nbformat": 4,
 "nbformat_minor": 4
}
